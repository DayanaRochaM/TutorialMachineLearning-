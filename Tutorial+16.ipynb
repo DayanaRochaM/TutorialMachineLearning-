{
 "cells": [
  {
   "cell_type": "markdown",
   "metadata": {},
   "source": [
    "# **Agregação Bootstrap**"
   ]
  },
  {
   "cell_type": "markdown",
   "metadata": {},
   "source": [
    "## Introdução"
   ]
  },
  {
   "cell_type": "markdown",
   "metadata": {},
   "source": [
    "Neste tutorial aprenderemos como implementar o procedimento Agregação Bootstrap que é um técnica para fazer árvores de decisão mais robustas e alcançar melhor performace. "
   ]
  },
  {
   "cell_type": "markdown",
   "metadata": {},
   "source": [
    "Antes de vermos os algoritmos, vamos aprender alguns conceitos."
   ]
  },
  {
   "cell_type": "markdown",
   "metadata": {},
   "source": [
    "### Algoritmo de Agregação Bootstrap"
   ]
  },
  {
   "cell_type": "markdown",
   "metadata": {},
   "source": [
    "Um bootstrap é uma amostra de um conjunto de dados com substituição. Isso significa que um novo conjunto é criado de uma amostra aletatória de um conjuntos de dados existente onde uma linha pode ser selecionada e adicionada mais do que\n",
    "uma vez à amostra. Criando amostras de um conjunto de dados e estimando o significado dessas amostras podemos calcular\n",
    "a média dessas estimativas e ter uma melhor idéia do verdadeiro significado do problema. <br />\n",
    "Essa abordagem pode ser usada com algoritmos de aprendizado de máquina que têm alta variância. Um modelo separado é treinado sobre cada bootstrap e a média dos outputs são usados para fazer previsões. <br />\n",
    "Variância significa que a performance é sensível aos dados de treino, com alta variação, sugerimos que quanto mais os dados de treinamento forem alterados, mais o desempenho do algoritmo variará. \n",
    "A performance de algoritmos de machine learning com alta variância pode ser melhorada treinando muitas árvores e \n",
    "calculando a média de suas previsões. Os resultados são geralmente melhores do que uma única árvore de decisão. Outro benefício do algoritmo, além do desempenho melhorado, é que as árvores de decisão geradas não podem superar o problema. As árvores podem continuar a ser adicionadas até um máximo em desempenho ser alcançado. "
   ]
  },
  {
   "cell_type": "markdown",
   "metadata": {},
   "source": [
    "<br />\n",
    "<br />\n",
    "Neste tutorial usaremos o conjunto de dados Sonar. Esse conjunto de dados é sobre a diferença entre minas e rochas. A performance desse exemplo é de aproximadamente 53%. Baixe o arquivo com os dados através do link https://github.com/DayanaRochaM/TutorialMachineLearning-/blob/master/sonar.all-data.csv e guarde-o no seu diretório de trabalho atual sem alterar seu nome (sonar.all-data.csv)."
   ]
  },
  {
   "cell_type": "markdown",
   "metadata": {},
   "source": [
    "## Passos do tutorial\n",
    "1. Bootstrap Resample\n",
    "2. Caso de estudo Sonar"
   ]
  },
  {
   "cell_type": "markdown",
   "metadata": {},
   "source": [
    "### 1. Bootstrap Resample"
   ]
  },
  {
   "cell_type": "markdown",
   "metadata": {},
   "source": [
    "Vamos começar tendo uma ideia de como o método Bootstrap funciona. Podemos criar uma simples amostra de um conjunto \n",
    "    de dados selecionando linhas aleatórias e adicionando-as a uma nova lista. Abaixo está uma função chamada **subsample()** que implementa esse procedimento. <br /> \n",
    "<br />\n",
    "A função auxiliar **randrange()** do módulo *random* é usada para\n",
    "selecionar o índice de uma linha aleatória para ser adicionada à amostra em cada interação do loop. O valor padrão de\n",
    "uma amostra é o tamanho do conjunto de dados original.\n",
    "<br />\n",
    "<br />"
   ]
  },
  {
   "cell_type": "code",
   "execution_count": 4,
   "metadata": {
    "collapsed": true
   },
   "outputs": [],
   "source": [
    "def subsample(dataset, ratio=1.0):\n",
    "    sample = list()\n",
    "    n_sample = round(len(dataset) * ratio)\n",
    "    while len(sample) < n_sample:\n",
    "        index = randrange(len(dataset))\n",
    "        sample.append(dataset[index])\n",
    "    return sample"
   ]
  },
  {
   "cell_type": "markdown",
   "metadata": {},
   "source": [
    "\n",
    "Podemos usar essa função para estimar a média de um conjunto de dados inventado, como é o caso do exemplo abaixo. Neste, primeiro criamos um conjunto de dados de 20 linhas e apenas uma coluna de números aleatórios entre 0 e 9,\n",
    "calculamos a média e as amostras bootstrap são criadas com 10% do conjunto de dados original. Depois, testamos nosso código criando 1, 10, 100 amostras de bootstrap do conjunto de dados original, calculamos suas médias e então, média de todos os valores médios estimados. <br />\n",
    "<br />\n",
    "Abaixo usamos a função **seed()** para inicializar o estado interno do gerador de números aleatórios com \"1\"."
   ]
  },
  {
   "cell_type": "code",
   "execution_count": 8,
   "metadata": {},
   "outputs": [
    {
     "name": "stdout",
     "output_type": "stream",
     "text": [
      "True Mean: 4.500\n",
      "Samples=1, Estimated Mean: 4.000\n",
      "Samples=10, Estimated Mean: 4.700\n",
      "Samples=100, Estimated Mean: 4.570\n"
     ]
    }
   ],
   "source": [
    "from random import seed\n",
    "from random import random\n",
    "from random import randrange\n",
    "\n",
    "# Cria uma subamostra aleatória do conjunto de dados com substituição\n",
    "def subsample(dataset, ratio=1.0):\n",
    "    sample = list()\n",
    "    n_sample = round(len(dataset) * ratio)\n",
    "    while len(sample) < n_sample:\n",
    "        index = randrange(len(dataset))\n",
    "        sample.append(dataset[index])\n",
    "    return sample\n",
    "\n",
    "# Calcula a média de uma lista de números\n",
    "def mean(numbers):\n",
    "    return sum(numbers) / float(len(numbers))\n",
    "\n",
    "# Testa a subamostragem de um conjunto de dados --------\n",
    "seed(1)\n",
    "\n",
    "# Verdadeira média\n",
    "dataset = [[randrange(10)] for i in range(20)]\n",
    "print('True Mean: %.3f' % mean([row[0] for row in dataset])) \n",
    "\n",
    "# Média estimada\n",
    "ratio = 0.10\n",
    "for size in [1, 10, 100]:\n",
    "    sample_means = list()\n",
    "    for i in range(size):\n",
    "        sample = subsample(dataset, ratio)\n",
    "        sample_mean = mean([row[0] for row in sample])\n",
    "        sample_means.append(sample_mean)\n",
    "    print('Samples=%d, Estimated Mean: %.3f' % (size, mean(sample_means)))"
   ]
  },
  {
   "cell_type": "markdown",
   "metadata": {},
   "source": [
    "Executando o exemplo acima podemos observar que a melhor estimativa vem da amostragem com 100 dados. "
   ]
  },
  {
   "cell_type": "markdown",
   "metadata": {},
   "source": [
    "O nosso próximo passo é combinar as previsões de múltiplos modelos de bootstrap."
   ]
  },
  {
   "cell_type": "code",
   "execution_count": null,
   "metadata": {
    "collapsed": true
   },
   "outputs": [],
   "source": []
  }
 ],
 "metadata": {
  "kernelspec": {
   "display_name": "Python 3",
   "language": "python",
   "name": "python3"
  },
  "language_info": {
   "codemirror_mode": {
    "name": "ipython",
    "version": 3
   },
   "file_extension": ".py",
   "mimetype": "text/x-python",
   "name": "python",
   "nbconvert_exporter": "python",
   "pygments_lexer": "ipython3",
   "version": "3.6.3"
  }
 },
 "nbformat": 4,
 "nbformat_minor": 2
}
