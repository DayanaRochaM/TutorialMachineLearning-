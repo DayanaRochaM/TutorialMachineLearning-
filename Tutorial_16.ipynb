{
 "cells": [
  {
   "cell_type": "markdown",
   "metadata": {},
   "source": [
    "# **Agregação Bootstrap**"
   ]
  },
  {
   "cell_type": "markdown",
   "metadata": {},
   "source": [
    "## Introdução"
   ]
  },
  {
   "cell_type": "markdown",
   "metadata": {},
   "source": [
    "Neste tutorial aprenderemos como implementar o procedimento Agregação Bootstrap que é um técnica para fazer árvores de decisão mais robustas e alcançar melhor performace. "
   ]
  },
  {
   "cell_type": "markdown",
   "metadata": {},
   "source": [
    "Antes de vermos os algoritmos, vamos aprender alguns conceitos."
   ]
  },
  {
   "cell_type": "markdown",
   "metadata": {},
   "source": [
    "### Árvore de decisão"
   ]
  },
  {
   "cell_type": "markdown",
   "metadata": {},
   "source": [
    "Árvores de decisão são modelos estatísticos que utilizam um treinamento supervisionado para a classificação e previsão de dados. Em outras palavras, em sua construção é utilizado um conjunto de treinamento formado por entradas e saídas.\n",
    "Estes modelos utilizam a estratégia de dividir para conquistar: um problema complexo é decomposto em sub-problemas mais simples e recursivamente esta técnica é aplicada a cada sub-problema. \n",
    "<br />\n",
    "<br />\n",
    "Abaixo temos um exemplo desse modelo.\n",
    "\n",
    " <img src = \"http://web.tecnico.ulisboa.pt/ana.freitas/bioinformatics.ath.cx/bioinformatics.ath.cx/uploads/RTEmagicC_arv_dec4_01.gif.gif\"/>\n"
   ]
  },
  {
   "cell_type": "markdown",
   "metadata": {},
   "source": [
    "### Algoritmo de Agregação Bootstrap"
   ]
  },
  {
   "cell_type": "markdown",
   "metadata": {},
   "source": [
    "Um **bootstrap** é uma amostra de um conjunto de dados com substituição. Isso significa que um novo conjunto é criado de uma amostra aletatória de um conjuntos de dados existente onde uma linha pode ser selecionada e adicionada mais do que uma vez à amostra. Um modelo separado é treinado sobre cada bootstrap e a média dos outputs é usada para fazer previsões. <br /> \n",
    "<br />\n",
    "Criando amostras de um conjunto de dados e estimando o significado dessas amostras podemos calcular\n",
    "a média dessas estimativas e ter uma melhor idéia do verdadeiro significado do problema. Essa abordagem pode ser usada com algoritmos de aprendizado de máquina que têm alta variância. Variância significa que a performance é sensível aos dados de treino, com alta variação, sugerimos que quanto mais os dados de treinamento forem alterados, mais o desempenho do algoritmo variará. <br />\n",
    "\n",
    "A performance de algoritmos de machine learning com alta variância pode ser melhorada treinando muitas árvores e calculando a média de suas previsões. \n",
    "<br />\n",
    "Os resultados são geralmente melhores do que uma única árvore de decisão, ou seja, o desempenho é melhorado."
   ]
  },
  {
   "cell_type": "markdown",
   "metadata": {},
   "source": [
    "### Validação Cruzada\n",
    "A validação cruzada é uma técnica para avaliar a capacidade de generalização de um modelo, a partir de um conjunto de dados. Esta técnica é amplamente empregada em problemas onde o objetivo da modelagem é a predição. Busca-se então estimar o quão preciso é este modelo na prática, ou seja, o seu desempenho para um novo conjunto de dados. A precisão final do modelo estimado é obtido por: <br />\n",
    "<img src = \"https://wikimedia.org/api/rest_v1/media/math/render/svg/8a5ae32048cdf7fa31caaf6f1d76815d248ba2bb\"/>"
   ]
  },
  {
   "cell_type": "markdown",
   "metadata": {},
   "source": [
    "<br />\n",
    "Neste tutorial usaremos o conjunto de dados Sonar. Esse conjunto de dados possui um compilado com a diferença entre minas e rochas. A performance desse exemplo é de aproximadamente 53%. Baixe o Sonar através do link https://github.com/DayanaRochaM/TutorialMachineLearning-/blob/master/sonar.all-data.csv e guarde-o no seu diretório de trabalho atual sem alterar seu nome (**sonar.all-data.csv**)."
   ]
  },
  {
   "cell_type": "markdown",
   "metadata": {},
   "source": [
    "## Passos do tutorial\n",
    "1. Bootstrap: entender como o método Boostrap funciona\n",
    "2. Caso de estudo Sonar: implementar o Algoritmo de Agregação Bootstrap sobre o conjunto de dados Sonar"
   ]
  },
  {
   "cell_type": "markdown",
   "metadata": {},
   "source": [
    "### 1. Bootstrap Resample"
   ]
  },
  {
   "cell_type": "markdown",
   "metadata": {},
   "source": [
    "Vamos começar tendo uma ideia de como o método Bootstrap funciona. Podemos criar uma simples amostra de um conjunto \n",
    "    de dados selecionando linhas aleatórias e adicionando-as a uma nova lista. Abaixo está uma função chamada **subsample()** que implementa esse procedimento. <br /> \n",
    "<br />\n",
    "A função auxiliar **randrange()** do módulo *random* é usada para\n",
    "selecionar o índice de uma linha aleatória para ser adicionada à amostra em cada interação do loop. O tamanho padrão de\n",
    "uma amostra é o tamanho do conjunto de dados original.\n",
    "<br />\n",
    "<br />"
   ]
  },
  {
   "cell_type": "code",
   "execution_count": null,
   "metadata": {
    "collapsed": true
   },
   "outputs": [],
   "source": [
    "def subsample(dataset, ratio=1.0):\n",
    "    sample = list()\n",
    "    n_sample = round(len(dataset) * ratio)\n",
    "    while len(sample) < n_sample:\n",
    "        index = randrange(len(dataset))\n",
    "        sample.append(dataset[index])\n",
    "    return sample"
   ]
  },
  {
   "cell_type": "markdown",
   "metadata": {},
   "source": [
    "\n",
    "Podemos usar essa função para estimar a média de um conjunto de dados inventado, como é o caso do exemplo abaixo. Neste, primeiro criamos um conjunto de dados de 20 linhas e apenas uma coluna de números aleatórios entre 0 e 9,\n",
    "calculamos a média e as amostras bootstrap são criadas com 10% do conjunto de dados original. Depois, testamos nosso código criando 1, 10 e 100 amostras de bootstrap a partir do conjunto de dados original, calculamos suas médias e então, a média de todas as médias estimadas. <br />\n",
    "<br />\n",
    "Abaixo usamos a função **seed()** para inicializar o estado interno do gerador de números aleatórios com \"1\"."
   ]
  },
  {
   "cell_type": "code",
   "execution_count": null,
   "metadata": {
    "collapsed": true
   },
   "outputs": [],
   "source": [
    "from random import seed\n",
    "from random import random\n",
    "from random import randrange\n",
    "\n",
    "# Cria uma subamostra aleatória do conjunto de dados com substituição\n",
    "def subsample(dataset, ratio=1.0):\n",
    "    sample = list()\n",
    "    n_sample = round(len(dataset) * ratio)\n",
    "    while len(sample) < n_sample:\n",
    "        index = randrange(len(dataset))\n",
    "        sample.append(dataset[index])\n",
    "    return sample\n",
    "\n",
    "# Calcula a média de uma lista de números\n",
    "def mean(numbers):\n",
    "    return sum(numbers) / float(len(numbers))\n",
    "\n",
    "# Testa a subamostragem de um conjunto de dados --------\n",
    "seed(1)\n",
    "\n",
    "# Verdadeira média\n",
    "dataset = [[randrange(10)] for i in range(20)]\n",
    "print('Media Verdadeira: %.3f' % mean([row[0] for row in dataset])) \n",
    "\n",
    "# Média estimada\n",
    "ratio = 0.10\n",
    "for size in [1, 10, 100]:\n",
    "    sample_means = list()\n",
    "    for i in range(size):\n",
    "        sample = subsample(dataset, ratio)\n",
    "        sample_mean = mean([row[0] for row in sample])\n",
    "        sample_means.append(sample_mean)\n",
    "    print('Amostras=%d, Media Estimada: %.3f' % (size, mean(sample_means)))"
   ]
  },
  {
   "cell_type": "markdown",
   "metadata": {},
   "source": [
    "Executando o exemplo acima podemos observar que a melhor estimativa vem da amostragem com 100 dados (a que mais se aproxima da média verdadeira). Sinta-se à vontade para, com calma, analisar o código acima. "
   ]
  },
  {
   "cell_type": "markdown",
   "metadata": {},
   "source": [
    "O nosso próximo passo é combinar as previsões de múltiplos modelos de bootstrap."
   ]
  },
  {
   "cell_type": "markdown",
   "metadata": {
    "collapsed": true
   },
   "source": [
    "<br />\n",
    "### 2. Estudo do caso Sonar"
   ]
  },
  {
   "cell_type": "markdown",
   "metadata": {},
   "source": [
    "Agora vamos aplicar o nosso algoritmo no conjunto de dados Sonar. Assumiremos que o arquivo **sonar.all-data.csv** já\n",
    "se encontra no seu diretório.\n",
    "<br />\n",
    "<br />\n",
    "O algoritmo carregará o conjunto de dados, converterá os valores string para numéricos e a coluna de output será \n",
    "convertida para inteiros entre 0 e 1. Esses primeiros passos serão feitos com as funções auxiliares **load_csv()**, **str_column_to_float()** e **str_colimn_to_int**."
   ]
  },
  {
   "cell_type": "markdown",
   "metadata": {},
   "source": [
    "Usaremos validação cruzada entre *k* partes para estimar a performance do modelo de aprendizado sobre dados aleatórios. Isso significa que iremos avaliar e contruir *k* modelos e estimar a perfomance pela média do erro do\n",
    "modelo. Precisão da classificação será usada para avaliar cada modelo. Para essa parte usaremos as funções \n",
    "**cross_validation_split()**, **accuracy_metric()** e **evaluate_algorithm()**."
   ]
  },
  {
   "cell_type": "markdown",
   "metadata": {},
   "source": [
    "Nós usaremos também a implementação de Classification and Regression Trees(CART) adaptado para à Agregação Bootstrap com as funções **teste_split()**, **gini_index()**, **get_split()**, **to_terminal()**, **split()**, **build_tree()**,\n",
    "**predict()**, e **subsample()**. Por fim, usaremos **bagging_predict()**, **bagging()**. <br />\n",
    "<p style=\"color:red\">O objetivo de cada função será apresentado como comentário no decorrer da implementação do Algoritmo\n",
    "de Agregação Bootstrap aplicado ao conjunto de dados Sonar.</p>"
   ]
  },
  {
   "cell_type": "code",
   "execution_count": null,
   "metadata": {
    "collapsed": true
   },
   "outputs": [],
   "source": [
    "# Algoritmo de Agregação Bootstrap sobre o conjunto de dados Sonar\n",
    "from random import seed\n",
    "from random import randrange\n",
    "from csv import reader\n",
    "\n",
    "# Carregar arquivo CSV\n",
    "def load_csv(filename):\n",
    "    dataset = list()\n",
    "    with open(filename, 'r') as file:\n",
    "        csv_reader = reader(file)\n",
    "        for row in csv_reader:\n",
    "            if not row:\n",
    "                continue\n",
    "            dataset.append(row)\n",
    "    return dataset\n",
    "\n",
    "# Converter coluna string para float\n",
    "def str_column_to_float(dataset, column):\n",
    "    for row in dataset:\n",
    "        row[column] = float(row[column].strip())\n",
    "        \n",
    "# Converter coluna string para inteiro\n",
    "def str_column_to_int(dataset, column):\n",
    "    class_values = [row[column] for row in dataset]\n",
    "    unique = set(class_values)\n",
    "    lookup = dict()\n",
    "    for i, value in enumerate(unique):\n",
    "        lookup[value] = i\n",
    "    for row in dataset:\n",
    "        row[column] = lookup[row[column]]\n",
    "    return lookup\n",
    "\n",
    "# Dividir um conjunto de dados em k partes\n",
    "def cross_validation_split(dataset, n_folds):\n",
    "    dataset_split = list()\n",
    "    dataset_copy = list(dataset)\n",
    "    fold_size = int(len(dataset) / n_folds)\n",
    "    for i in range(n_folds):\n",
    "        fold = list()\n",
    "        while len(fold) < fold_size:\n",
    "            index = randrange(len(dataset_copy))\n",
    "            fold.append(dataset_copy.pop(index))\n",
    "        dataset_split.append(fold)\n",
    "    return dataset_split\n",
    "\n",
    "# Calcular porcentagem de aproximação\n",
    "def accuracy_metric(actual, predicted):\n",
    "    correct = 0\n",
    "    for i in range(len(actual)):\n",
    "        if actual[i] == predicted[i]:\n",
    "            correct += 1\n",
    "    return correct / float(len(actual)) * 100.0\n",
    "\n",
    "# Avaliar um algoritmo usando uma divisão de validação cruzada\n",
    "def evaluate_algorithm(dataset, algorithm, n_folds, *args):\n",
    "    folds = cross_validation_split(dataset, n_folds)\n",
    "    scores = list()\n",
    "    for fold in folds:\n",
    "        train_set = list(folds)\n",
    "        train_set.remove(fold)\n",
    "        train_set = sum(train_set, [])\n",
    "        test_set = list()\n",
    "        for row in fold:\n",
    "            row_copy = list(row)\n",
    "            test_set.append(row_copy)\n",
    "            row_copy[-1] = None\n",
    "        predicted = algorithm(train_set, test_set, *args)\n",
    "        actual = [row[-1] for row in fold]\n",
    "        accuracy = accuracy_metric(actual, predicted)\n",
    "        scores.append(accuracy)\n",
    "    return scores\n",
    "\n",
    "# Dividir um conjunto de dados com base em um atributo e um valor de atributo\n",
    "def test_split(index, value, dataset):\n",
    "    left, right = list(), list()\n",
    "    for row in dataset:\n",
    "        if row[index] < value:\n",
    "            left.append(row)\n",
    "        else:\n",
    "            right.append(row)\n",
    "    return left, right\n",
    "\n",
    "# Calcular o índice Gini para um conjunto de dados dividido usado para avaliar um ponto de divisão\n",
    "def gini_index(groups, classes):\n",
    "    # contar todas as amostras no ponto de divisão\n",
    "    n_instances = float(sum([len(group) for group in groups]))\n",
    "    # índice ponderado de Gini para cada grupo\n",
    "    gini = 0.0\n",
    "    for group in groups:\n",
    "        size = float(len(group))\n",
    "        # evitar divisão por zero\n",
    "        if size == 0:\n",
    "            continue\n",
    "        score = 0.0\n",
    "        # marcar a pontuação do grupo na pontuação para cada classe\n",
    "        for class_val in classes:\n",
    "            p = [row[-1] for row in group].count(class_val) / size\n",
    "            score += p * p\n",
    "        # pontuação do grupo pelo tamanho relativo\n",
    "        gini += (1.0 - score) * (size / n_instances)\n",
    "    return gini\n",
    "\n",
    "# Selecione o melhor ponto de divisão para um conjunto de dados\n",
    "def get_split(dataset): \n",
    "    class_values = list(set(row[-1] for row in dataset)) \n",
    "    b_index, b_value, b_score, b_groups = 999, 999, 999, None \n",
    "    for index in range(len(dataset[0])-1): \n",
    "        for row in dataset: \n",
    "            # for i in range(len(dataset)):\n",
    "            # row = dataset[randrange(len(dataset))]\n",
    "            groups = test_split(index, row[index], dataset) \n",
    "            gini = gini_index(groups, class_values) \n",
    "            if gini < b_score: \n",
    "                b_index, b_value, b_score, b_groups = index, row[index], gini, groups \n",
    "    return {'index':b_index, 'value':b_value, 'groups':b_groups}\n",
    "\n",
    "# Criar um valor de nó terminal\n",
    "def to_terminal(group):\n",
    "    outcomes = [row[-1] for row in group]\n",
    "    return max(set(outcomes), key=outcomes.count)\n",
    "\n",
    "# Crie filhos para um nó ou faça um terminal\n",
    "def split(node, max_depth, min_size, depth): \n",
    "    left, right = node['groups'] \n",
    "    del(node['groups'])\n",
    "    # verifique se não há uma divisão\n",
    "    if not left or not right:\n",
    "        node['left'] = node['right'] = to_terminal(left + right) \n",
    "        return\n",
    "    # Verifique a profundidade máxima\n",
    "    if depth >= max_depth:\n",
    "        node['left'], node['right'] = to_terminal(left), to_terminal(right) \n",
    "        return\n",
    "    # processar filho esquerdo\n",
    "    if len(left) <= min_size:\n",
    "        node['left'] = to_terminal(left) \n",
    "    else: \n",
    "        node['left'] = get_split(left) \n",
    "        split(node['left'], max_depth, min_size, depth+1) \n",
    "    # processar filho direito \n",
    "    if len(right) <= min_size: \n",
    "        node['right'] = to_terminal(right) \n",
    "    else: \n",
    "        node['right'] = get_split(right) \n",
    "        split(node['right'], max_depth, min_size, depth+1)\n",
    "\n",
    "# Construir uma árvore de decisão\n",
    "def build_tree(train, max_depth, min_size): \n",
    "    root = get_split(train) \n",
    "    split(root, max_depth, min_size, 1) \n",
    "    return root\n",
    "      \n",
    "# Fazer uma previsão com a árvore de decisão\n",
    "def predict(node, row): \n",
    "    if row[node['index']] < node['value']: \n",
    "        if isinstance(node['left'], dict): \n",
    "            return predict(node['left'], row) \n",
    "        else: \n",
    "            return node['left']\n",
    "    else: \n",
    "        if isinstance(node['right'], dict): \n",
    "            return predict(node['right'], row) \n",
    "        else:\n",
    "            return node['right']\n",
    "\n",
    "            \n",
    "# Crie uma subamostra aleatória do conjunto de dados com substituição \n",
    "def subsample(dataset, ratio): \n",
    "    sample = list() \n",
    "    n_sample = round(len(dataset) * ratio) \n",
    "    while len(sample) < n_sample: \n",
    "        index = randrange(len(dataset)) \n",
    "        sample.append(dataset[index]) \n",
    "    return sample\n",
    "\n",
    "# Fazer uma previsão com uma lista de árvores bootstrap\n",
    "def bagging_predict(trees, row): \n",
    "    predictions = [predict(tree, row) for tree in trees] \n",
    "    return max(set(predictions), key=predictions.count)\n",
    "\n",
    "# Algoritmo de Agregação Bootstrap\n",
    "def bagging(train, test, max_depth, min_size, sample_size, n_trees): \n",
    "    trees = list() \n",
    "    for i in range(n_trees): \n",
    "        sample = subsample(train, sample_size) \n",
    "        tree = build_tree(sample, max_depth, min_size) \n",
    "        trees.append(tree) \n",
    "    predictions = [bagging_predict(trees, row) for row in test] \n",
    "    return(predictions)\n",
    "\n",
    "# Testando o algoritmo no Sonar \n",
    "seed(1)\n",
    "\n",
    "# Carregar e preparar dados\n",
    "filename = 'sonar.all-data.csv' \n",
    "dataset = load_csv(filename) \n",
    "# converter atributos string para inteiros\n",
    "for i in range(len(dataset[0])-1): \n",
    "    str_column_to_float(dataset, i) \n",
    "# converter a coluna da classe para números inteiros\n",
    "str_column_to_int(dataset, len(dataset[0])-1) \n",
    "\n",
    "# avaliar algoritmo\n",
    "n_folds = 5 \n",
    "max_depth = 6 \n",
    "min_size = 2 \n",
    "sample_size = 0.50 \n",
    "for n_trees in [1, 5, 10, 50]: \n",
    "    scores = evaluate_algorithm(dataset, bagging, n_folds, max_depth, min_size, sample_size, n_trees) \n",
    "    print('Árvores: %d' % n_trees) \n",
    "    print('Scores: %s' % scores) \n",
    "    print('Precisão média: %.3f%%' % (sum(scores)/float(len(scores))))\n"
   ]
  },
  {
   "cell_type": "markdown",
   "metadata": {},
   "source": [
    "Execute a célula acima.\n",
    "\n",
    "K = 5 é usado para validação cruzada, nos dando 208/5 = 41.6 registros a serem avaliados por iteração. Construimos árvores com no máximo 6 de profundidade e número mínimo de linhas treinadas por nó igual a 2. Criamos amostras\n",
    "com 50% do tamanho do original do conjunto de dados. <br />\n",
    "Uma série com 4 diferentes números de árvores foram avaliados para mostrar o comportamento do algoritmo. A aproximação\n",
    "para cada parte e a média de aproximação são exibidas para cada configuração. Podemos ver uma pequena melhora na\n",
    "performance de acordo com o aumento do número de árvores."
   ]
  },
  {
   "cell_type": "markdown",
   "metadata": {},
   "source": [
    "Uma dificuldade desse método é que ainda que árvores profundas sejam construídas, as árvores criadas são muito\n",
    "parecidas, desse modo, as previsões feitas também são e a variância que tanto queremos é comprometida. Isso acontece\n",
    "porque o algoritmos guloso usado na construção das árvores usam pontos de divisão iguais ou similares. Neste tutorial \n",
    "tentamos acentuar essa diferença restringindo o tamanho das amostras usado para treinar cada árvore."
   ]
  },
  {
   "cell_type": "markdown",
   "metadata": {},
   "source": [
    "## Fontes\n",
    "**Livro**: <br /> \n",
    "* Machine Learning Algorithms from Scratch With Python - Jason Brownlee "
   ]
  },
  {
   "cell_type": "markdown",
   "metadata": {},
   "source": [
    "**Sites**:\n",
    "* https://www.maxwell.vrac.puc-rio.br/7587/7587_4.PDF \n",
    "* http://web.tecnico.ulisboa.pt/ana.freitas/bioinformatics.ath.cx/bioinformatics.ath.cx/indexf23d.html?id\n",
    "* https://pt.wikipedia.org/wiki/Validação_cruzada"
   ]
  }
 ],
 "metadata": {
  "kernelspec": {
   "display_name": "Python 3",
   "language": "python",
   "name": "python3"
  },
  "language_info": {
   "codemirror_mode": {
    "name": "ipython",
    "version": 3
   },
   "file_extension": ".py",
   "mimetype": "text/x-python",
   "name": "python",
   "nbconvert_exporter": "python",
   "pygments_lexer": "ipython3",
   "version": "3.6.3"
  }
 },
 "nbformat": 4,
 "nbformat_minor": 2
}
